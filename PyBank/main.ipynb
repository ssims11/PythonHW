import csv
from pathlib import Path

csvpath = Path("../../Python-HW/budget_data.csv")

Total_Months = 0
Date = []
Total_Profit_Loss = 0
Average_Change = []
Month2Month = []
Greatest_Profit = 0
Greatest_Loss = 0
TPL = []
Greatest_Profit_Date = ""
Greatest_Loss_Date = ""

with open(csvpath, 'r') as csvfile:
    csvreader = csv.reader(csvfile, delimiter=',')
    csvheader = next(csvreader)
    for row in csvreader:
        Total_Months += 1
        Total_Profit_Loss += int(row[1])
        Date.append(row[0])
        TPL.append(str(row[1]))

for i in range(1, len(TPL)):
    Month2Month.append(int(TPL[i]) - int(TPL[i - 1]))

Average_Change = sum(Month2Month) / len(Month2Month)
Greatest_Profit = max(Month2Month)
Greatest_Loss = min(Month2Month)
Greatest_Profit_Date = str(Date[Month2Month.index(max(Month2Month))])
Greatest_Loss_Date = str(Date[Month2Month.index(min(Month2Month))])

print(f"Total Months: {Total_Months}")
print(f"Total Profit/Loss: ${Total_Profit_Loss}")
print(f"Average profit change Month to Month: ${Average_Change}")
print(f"Greatest increase in profit: {Greatest_Profit_Date} ${Greatest_Profit}")
print(f"Greatest decrease in profit: {Greatest_Loss_Date} ${Greatest_Loss}")

output = Path("output.csv")
with open(output, 'w') as csvfile:
    csvwriter = csv.writer(csvfile, delimiter=',')
    csvwriter.writerow(["Total Months", Total_Months])
    csvwriter.writerow(["Total Profit/Loss", Total_Profit_Loss])
    csvwriter.writerow(["Average profit change Month to Month", Average_Change])
    csvwriter.writerow(["Greatest increase in profit", Greatest_Profit_Date, Greatest_Profit])
    csvwriter.writerow(["Greatest decrease in profit", Greatest_Loss_Date, Greatest_Loss])
