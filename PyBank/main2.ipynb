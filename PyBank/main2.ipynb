{
 "cells": [
  {
   "cell_type": "code",
   "execution_count": 1,
   "id": "965fc52c-33d0-4551-aa7e-89ffef867326",
   "metadata": {},
   "outputs": [],
   "source": [
    "from pathlib import Path\n",
    "import csv"
   ]
  },
  {
   "cell_type": "code",
   "execution_count": null,
   "id": "1b075bba-1310-4c18-9a7f-39548f0a57cb",
   "metadata": {},
   "outputs": [],
   "source": [
    "csvpath = Path(\"../../Python-HW/budget_data.csv\")\n",
    "\n",
    "Total_Months = []\n",
    "Date = []\n",
    "Total_Profit_Loss = 0\n",
    "Average_Change = []\n",
    "Month2Month = []\n",
    "Greatest_Profit = []\n",
    "Greatest_Loss = []\n",
    "TPL = []\n",
    "Greatest_Profit_Date = []\n",
    "Greatest_Loss_Date = []\n",
    "\n",
    "with open (csvpath, 'r') as csvfile:\n",
    "    csvreader = csv.reader(csvfile, delimiter=',')\n",
    "    csvheader = next(csvreader)\n",
    "    for row in csvreader:\n",
    "        Total_Months += 1\n",
    "        Total_Profit_Loss += int(row[1])\n",
    "\n",
    "Date.append(row[0])\n",
    "TPL.append(str(row[1]))\n",
    "\n",
    "for i in range(1, len(TPL)):\n",
    "    Month2Month.append(TPL[i] - TPL[i - 1])\n",
    "    Average_Change = sum(Month2Month)/len(Month2Month)\n",
    "    Greatest_Profit = max(Month2Month)\n",
    "    Greatest_Loss = min(Month2Month)\n",
    "    Greatest_Profit_Date = str(date[Month2Month.index(max(Month2Month))])\n",
    "    Greatest_Loss_Date = str(date[Month2Month.index(min(Month2Month))\n",
    "\n",
    "print(f\"Total Months: {Total_Months}\")\n",
    "print(f\"Total Profit/Loss: $ {Total_Profit_Loss}\")\n",
    "print(f\"Average profit change Month to Month: $ {Average_Change}\")\n",
    "print(f\"Greatest increase in profit: {max_Greatest.Profit_Date} ${max.Greatest_Profit}\")\n",
    "print(f\"Greatest decrease in profit: {min_Greatest.Loss_Date} ${min.Greatest_Loss}\")\n",
    "                                  \n",
    "output = Path(\"output.csv\")\n",
    "with open(output, 'w') as csvfile:\n",
    "    csvwriter = csv.writer(csvfile, delimiter=',')\n",
    "    for Total_Months in Total Months:\n",
    "        csvwriter.writerow(Total_Months)\n",
    "    for Total_Profit_Loss in Total_Profit_Loss:\n",
    "        csvwriter.writerow(Total_Profit_Loss)\n",
    "    for Average_Change in Average_Change:\n",
    "        csvwriter.writerow(Average_Change):\n",
    "    for Greatest_Profit in Greatest_Profit:\n",
    "        csvwriter.writerow(Greatest_Profit):\n",
    "    for Greatest_Loss in Greatest_Loss:\n",
    "        csvwriter.writerow(Greatest_Loss):\n"
   ]
  }
 ],
 "metadata": {
  "kernelspec": {
   "display_name": "Python 3",
   "language": "python",
   "name": "python3"
  },
  "language_info": {
   "codemirror_mode": {
    "name": "ipython",
    "version": 3
   },
   "file_extension": ".py",
   "mimetype": "text/x-python",
   "name": "python",
   "nbconvert_exporter": "python",
   "pygments_lexer": "ipython3",
   "version": "3.8.5"
  }
 },
 "nbformat": 4,
 "nbformat_minor": 5
}
